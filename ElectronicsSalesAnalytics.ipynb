{
 "cells": [
  {
   "cell_type": "code",
   "execution_count": 1,
   "id": "94018a68-e452-476b-b0a4-34780b9243fe",
   "metadata": {},
   "outputs": [
    {
     "name": "stderr",
     "output_type": "stream",
     "text": [
      "/var/folders/dp/jzw9_p792p12jh67s1z26q200000gn/T/ipykernel_19780/3283352142.py:1: DeprecationWarning: \n",
      "Pyarrow will become a required dependency of pandas in the next major release of pandas (pandas 3.0),\n",
      "(to allow more performant data types, such as the Arrow string type, and better interoperability with other libraries)\n",
      "but was not found to be installed on your system.\n",
      "If this would cause problems for you,\n",
      "please provide us feedback at https://github.com/pandas-dev/pandas/issues/54466\n",
      "        \n",
      "  import pandas as pd\n"
     ]
    }
   ],
   "source": [
    "import pandas as pd\n",
    "import os\n",
    "import matplotlib.pyplot as plt\n",
    "import seaborn as sns\n",
    "import numpy as np\n",
    "from scipy.stats import skew, kurtosis"
   ]
  },
  {
   "cell_type": "code",
   "execution_count": null,
   "id": "a0d37c1d-f84d-4dae-ba98-e6d618d11ba7",
   "metadata": {},
   "outputs": [],
   "source": []
  },
  {
   "cell_type": "code",
   "execution_count": 4,
   "id": "985edbf7-7dd5-4366-a148-7f54461ba3f5",
   "metadata": {},
   "outputs": [],
   "source": [
    "# Create an empty list to store the dataframes\n",
    "merged_df= pd.DataFrame()\n",
    "\n",
    "data=('/Users/devbirchandthakuri/desktop/sales')\n",
    "\n",
    "dfs=[]\n",
    "# Iterate over the file names and read each file into a dataframe\n",
    "for file_name in os.listdir(data):\n",
    "     file_path = os.path.join(data, file_name)\n",
    "     df=pd.read_csv(file_path)\n",
    "     dfs.append(df)\n",
    "merged_df=pd.concat(dfs)\n",
    "\n",
    "\n",
    "# Write the merged dataframe to a CSV file\n",
    "merged_df.to_csv('csv_file', index=False)"
   ]
  },
  {
   "cell_type": "code",
   "execution_count": 6,
   "id": "78b32aa6",
   "metadata": {},
   "outputs": [],
   "source": [
    "#Creating a variable to  read and display the CSV file in a dataframe\n",
    "dfa=pd.read_csv('csv_file') \n",
    "\n"
   ]
  },
  {
   "cell_type": "code",
   "execution_count": 7,
   "id": "ef425704",
   "metadata": {},
   "outputs": [
    {
     "data": {
      "text/html": [
       "<div>\n",
       "<style scoped>\n",
       "    .dataframe tbody tr th:only-of-type {\n",
       "        vertical-align: middle;\n",
       "    }\n",
       "\n",
       "    .dataframe tbody tr th {\n",
       "        vertical-align: top;\n",
       "    }\n",
       "\n",
       "    .dataframe thead th {\n",
       "        text-align: right;\n",
       "    }\n",
       "</style>\n",
       "<table border=\"1\" class=\"dataframe\">\n",
       "  <thead>\n",
       "    <tr style=\"text-align: right;\">\n",
       "      <th></th>\n",
       "      <th>Order ID</th>\n",
       "      <th>Product</th>\n",
       "      <th>Quantity Ordered</th>\n",
       "      <th>Price Each</th>\n",
       "      <th>Order Date</th>\n",
       "      <th>Purchase Address</th>\n",
       "    </tr>\n",
       "  </thead>\n",
       "  <tbody>\n",
       "    <tr>\n",
       "      <th>0</th>\n",
       "      <td>295665.0</td>\n",
       "      <td>Macbook Pro Laptop</td>\n",
       "      <td>1.0</td>\n",
       "      <td>1700.00</td>\n",
       "      <td>12/30/2019 0:01</td>\n",
       "      <td>136 Church St, New York City, NY 10001</td>\n",
       "    </tr>\n",
       "    <tr>\n",
       "      <th>1</th>\n",
       "      <td>295666.0</td>\n",
       "      <td>LG Washing Machine</td>\n",
       "      <td>1.0</td>\n",
       "      <td>600.00</td>\n",
       "      <td>12/29/2019 7:03</td>\n",
       "      <td>562 2nd St, New York City, NY 10001</td>\n",
       "    </tr>\n",
       "    <tr>\n",
       "      <th>2</th>\n",
       "      <td>295667.0</td>\n",
       "      <td>USB-C Charging Cable</td>\n",
       "      <td>1.0</td>\n",
       "      <td>11.95</td>\n",
       "      <td>12/12/2019 18:21</td>\n",
       "      <td>277 Main St, New York City, NY 10001</td>\n",
       "    </tr>\n",
       "    <tr>\n",
       "      <th>3</th>\n",
       "      <td>295668.0</td>\n",
       "      <td>27in FHD Monitor</td>\n",
       "      <td>1.0</td>\n",
       "      <td>149.99</td>\n",
       "      <td>12/22/2019 15:13</td>\n",
       "      <td>410 6th St, San Francisco, CA 94016</td>\n",
       "    </tr>\n",
       "    <tr>\n",
       "      <th>4</th>\n",
       "      <td>295669.0</td>\n",
       "      <td>USB-C Charging Cable</td>\n",
       "      <td>1.0</td>\n",
       "      <td>11.95</td>\n",
       "      <td>12/18/2019 12:38</td>\n",
       "      <td>43 Hill St, Atlanta, GA 30301</td>\n",
       "    </tr>\n",
       "    <tr>\n",
       "      <th>...</th>\n",
       "      <td>...</td>\n",
       "      <td>...</td>\n",
       "      <td>...</td>\n",
       "      <td>...</td>\n",
       "      <td>...</td>\n",
       "      <td>...</td>\n",
       "    </tr>\n",
       "    <tr>\n",
       "      <th>186845</th>\n",
       "      <td>222905.0</td>\n",
       "      <td>AAA Batteries (4-pack)</td>\n",
       "      <td>1.0</td>\n",
       "      <td>2.99</td>\n",
       "      <td>6/7/2019 19:02</td>\n",
       "      <td>795 Pine St, Boston, MA 02215</td>\n",
       "    </tr>\n",
       "    <tr>\n",
       "      <th>186846</th>\n",
       "      <td>222906.0</td>\n",
       "      <td>27in FHD Monitor</td>\n",
       "      <td>1.0</td>\n",
       "      <td>149.99</td>\n",
       "      <td>6/1/2019 19:29</td>\n",
       "      <td>495 North St, New York City, NY 10001</td>\n",
       "    </tr>\n",
       "    <tr>\n",
       "      <th>186847</th>\n",
       "      <td>222907.0</td>\n",
       "      <td>USB-C Charging Cable</td>\n",
       "      <td>1.0</td>\n",
       "      <td>11.95</td>\n",
       "      <td>6/22/2019 18:57</td>\n",
       "      <td>319 Ridge St, San Francisco, CA 94016</td>\n",
       "    </tr>\n",
       "    <tr>\n",
       "      <th>186848</th>\n",
       "      <td>222908.0</td>\n",
       "      <td>USB-C Charging Cable</td>\n",
       "      <td>1.0</td>\n",
       "      <td>11.95</td>\n",
       "      <td>6/26/2019 18:35</td>\n",
       "      <td>916 Main St, San Francisco, CA 94016</td>\n",
       "    </tr>\n",
       "    <tr>\n",
       "      <th>186849</th>\n",
       "      <td>222909.0</td>\n",
       "      <td>AAA Batteries (4-pack)</td>\n",
       "      <td>1.0</td>\n",
       "      <td>2.99</td>\n",
       "      <td>6/25/2019 14:33</td>\n",
       "      <td>209 11th St, Atlanta, GA 30301</td>\n",
       "    </tr>\n",
       "  </tbody>\n",
       "</table>\n",
       "<p>186850 rows × 6 columns</p>\n",
       "</div>"
      ],
      "text/plain": [
       "        Order ID                 Product  Quantity Ordered  Price Each  \\\n",
       "0       295665.0      Macbook Pro Laptop               1.0     1700.00   \n",
       "1       295666.0      LG Washing Machine               1.0      600.00   \n",
       "2       295667.0    USB-C Charging Cable               1.0       11.95   \n",
       "3       295668.0        27in FHD Monitor               1.0      149.99   \n",
       "4       295669.0    USB-C Charging Cable               1.0       11.95   \n",
       "...          ...                     ...               ...         ...   \n",
       "186845  222905.0  AAA Batteries (4-pack)               1.0        2.99   \n",
       "186846  222906.0        27in FHD Monitor               1.0      149.99   \n",
       "186847  222907.0    USB-C Charging Cable               1.0       11.95   \n",
       "186848  222908.0    USB-C Charging Cable               1.0       11.95   \n",
       "186849  222909.0  AAA Batteries (4-pack)               1.0        2.99   \n",
       "\n",
       "              Order Date                        Purchase Address  \n",
       "0        12/30/2019 0:01  136 Church St, New York City, NY 10001  \n",
       "1        12/29/2019 7:03     562 2nd St, New York City, NY 10001  \n",
       "2       12/12/2019 18:21    277 Main St, New York City, NY 10001  \n",
       "3       12/22/2019 15:13     410 6th St, San Francisco, CA 94016  \n",
       "4       12/18/2019 12:38           43 Hill St, Atlanta, GA 30301  \n",
       "...                  ...                                     ...  \n",
       "186845    6/7/2019 19:02           795 Pine St, Boston, MA 02215  \n",
       "186846    6/1/2019 19:29   495 North St, New York City, NY 10001  \n",
       "186847   6/22/2019 18:57   319 Ridge St, San Francisco, CA 94016  \n",
       "186848   6/26/2019 18:35    916 Main St, San Francisco, CA 94016  \n",
       "186849   6/25/2019 14:33          209 11th St, Atlanta, GA 30301  \n",
       "\n",
       "[186850 rows x 6 columns]"
      ]
     },
     "execution_count": 7,
     "metadata": {},
     "output_type": "execute_result"
    }
   ],
   "source": [
    "\n",
    "dfa"
   ]
  },
  {
   "cell_type": "code",
   "execution_count": 9,
   "id": "7a73c081",
   "metadata": {},
   "outputs": [
    {
     "data": {
      "text/plain": [
       "Order ID            900\n",
       "Product             900\n",
       "Quantity Ordered    900\n",
       "Price Each          900\n",
       "Order Date          900\n",
       "Purchase Address    900\n",
       "dtype: int64"
      ]
     },
     "execution_count": 9,
     "metadata": {},
     "output_type": "execute_result"
    }
   ],
   "source": [
    "dfa.isna().sum() # Checking null values"
   ]
  },
  {
   "cell_type": "code",
   "execution_count": 10,
   "id": "50f8f953",
   "metadata": {},
   "outputs": [
    {
     "data": {
      "text/html": [
       "<div>\n",
       "<style scoped>\n",
       "    .dataframe tbody tr th:only-of-type {\n",
       "        vertical-align: middle;\n",
       "    }\n",
       "\n",
       "    .dataframe tbody tr th {\n",
       "        vertical-align: top;\n",
       "    }\n",
       "\n",
       "    .dataframe thead th {\n",
       "        text-align: right;\n",
       "    }\n",
       "</style>\n",
       "<table border=\"1\" class=\"dataframe\">\n",
       "  <thead>\n",
       "    <tr style=\"text-align: right;\">\n",
       "      <th></th>\n",
       "      <th>Order ID</th>\n",
       "      <th>Product</th>\n",
       "      <th>Quantity Ordered</th>\n",
       "      <th>Price Each</th>\n",
       "      <th>Order Date</th>\n",
       "      <th>Purchase Address</th>\n",
       "    </tr>\n",
       "  </thead>\n",
       "  <tbody>\n",
       "    <tr>\n",
       "      <th>0</th>\n",
       "      <td>295665.0</td>\n",
       "      <td>Macbook Pro Laptop</td>\n",
       "      <td>1.0</td>\n",
       "      <td>1700.00</td>\n",
       "      <td>12/30/2019 0:01</td>\n",
       "      <td>136 Church St, New York City, NY 10001</td>\n",
       "    </tr>\n",
       "    <tr>\n",
       "      <th>1</th>\n",
       "      <td>295666.0</td>\n",
       "      <td>LG Washing Machine</td>\n",
       "      <td>1.0</td>\n",
       "      <td>600.00</td>\n",
       "      <td>12/29/2019 7:03</td>\n",
       "      <td>562 2nd St, New York City, NY 10001</td>\n",
       "    </tr>\n",
       "    <tr>\n",
       "      <th>2</th>\n",
       "      <td>295667.0</td>\n",
       "      <td>USB-C Charging Cable</td>\n",
       "      <td>1.0</td>\n",
       "      <td>11.95</td>\n",
       "      <td>12/12/2019 18:21</td>\n",
       "      <td>277 Main St, New York City, NY 10001</td>\n",
       "    </tr>\n",
       "    <tr>\n",
       "      <th>3</th>\n",
       "      <td>295668.0</td>\n",
       "      <td>27in FHD Monitor</td>\n",
       "      <td>1.0</td>\n",
       "      <td>149.99</td>\n",
       "      <td>12/22/2019 15:13</td>\n",
       "      <td>410 6th St, San Francisco, CA 94016</td>\n",
       "    </tr>\n",
       "    <tr>\n",
       "      <th>4</th>\n",
       "      <td>295669.0</td>\n",
       "      <td>USB-C Charging Cable</td>\n",
       "      <td>1.0</td>\n",
       "      <td>11.95</td>\n",
       "      <td>12/18/2019 12:38</td>\n",
       "      <td>43 Hill St, Atlanta, GA 30301</td>\n",
       "    </tr>\n",
       "    <tr>\n",
       "      <th>...</th>\n",
       "      <td>...</td>\n",
       "      <td>...</td>\n",
       "      <td>...</td>\n",
       "      <td>...</td>\n",
       "      <td>...</td>\n",
       "      <td>...</td>\n",
       "    </tr>\n",
       "    <tr>\n",
       "      <th>186845</th>\n",
       "      <td>222905.0</td>\n",
       "      <td>AAA Batteries (4-pack)</td>\n",
       "      <td>1.0</td>\n",
       "      <td>2.99</td>\n",
       "      <td>6/7/2019 19:02</td>\n",
       "      <td>795 Pine St, Boston, MA 02215</td>\n",
       "    </tr>\n",
       "    <tr>\n",
       "      <th>186846</th>\n",
       "      <td>222906.0</td>\n",
       "      <td>27in FHD Monitor</td>\n",
       "      <td>1.0</td>\n",
       "      <td>149.99</td>\n",
       "      <td>6/1/2019 19:29</td>\n",
       "      <td>495 North St, New York City, NY 10001</td>\n",
       "    </tr>\n",
       "    <tr>\n",
       "      <th>186847</th>\n",
       "      <td>222907.0</td>\n",
       "      <td>USB-C Charging Cable</td>\n",
       "      <td>1.0</td>\n",
       "      <td>11.95</td>\n",
       "      <td>6/22/2019 18:57</td>\n",
       "      <td>319 Ridge St, San Francisco, CA 94016</td>\n",
       "    </tr>\n",
       "    <tr>\n",
       "      <th>186848</th>\n",
       "      <td>222908.0</td>\n",
       "      <td>USB-C Charging Cable</td>\n",
       "      <td>1.0</td>\n",
       "      <td>11.95</td>\n",
       "      <td>6/26/2019 18:35</td>\n",
       "      <td>916 Main St, San Francisco, CA 94016</td>\n",
       "    </tr>\n",
       "    <tr>\n",
       "      <th>186849</th>\n",
       "      <td>222909.0</td>\n",
       "      <td>AAA Batteries (4-pack)</td>\n",
       "      <td>1.0</td>\n",
       "      <td>2.99</td>\n",
       "      <td>6/25/2019 14:33</td>\n",
       "      <td>209 11th St, Atlanta, GA 30301</td>\n",
       "    </tr>\n",
       "  </tbody>\n",
       "</table>\n",
       "<p>185950 rows × 6 columns</p>\n",
       "</div>"
      ],
      "text/plain": [
       "        Order ID                 Product  Quantity Ordered  Price Each  \\\n",
       "0       295665.0      Macbook Pro Laptop               1.0     1700.00   \n",
       "1       295666.0      LG Washing Machine               1.0      600.00   \n",
       "2       295667.0    USB-C Charging Cable               1.0       11.95   \n",
       "3       295668.0        27in FHD Monitor               1.0      149.99   \n",
       "4       295669.0    USB-C Charging Cable               1.0       11.95   \n",
       "...          ...                     ...               ...         ...   \n",
       "186845  222905.0  AAA Batteries (4-pack)               1.0        2.99   \n",
       "186846  222906.0        27in FHD Monitor               1.0      149.99   \n",
       "186847  222907.0    USB-C Charging Cable               1.0       11.95   \n",
       "186848  222908.0    USB-C Charging Cable               1.0       11.95   \n",
       "186849  222909.0  AAA Batteries (4-pack)               1.0        2.99   \n",
       "\n",
       "              Order Date                        Purchase Address  \n",
       "0        12/30/2019 0:01  136 Church St, New York City, NY 10001  \n",
       "1        12/29/2019 7:03     562 2nd St, New York City, NY 10001  \n",
       "2       12/12/2019 18:21    277 Main St, New York City, NY 10001  \n",
       "3       12/22/2019 15:13     410 6th St, San Francisco, CA 94016  \n",
       "4       12/18/2019 12:38           43 Hill St, Atlanta, GA 30301  \n",
       "...                  ...                                     ...  \n",
       "186845    6/7/2019 19:02           795 Pine St, Boston, MA 02215  \n",
       "186846    6/1/2019 19:29   495 North St, New York City, NY 10001  \n",
       "186847   6/22/2019 18:57   319 Ridge St, San Francisco, CA 94016  \n",
       "186848   6/26/2019 18:35    916 Main St, San Francisco, CA 94016  \n",
       "186849   6/25/2019 14:33          209 11th St, Atlanta, GA 30301  \n",
       "\n",
       "[185950 rows x 6 columns]"
      ]
     },
     "execution_count": 10,
     "metadata": {},
     "output_type": "execute_result"
    }
   ],
   "source": [
    "dfa.dropna() # Removing all the null values"
   ]
  },
  {
   "cell_type": "code",
   "execution_count": 11,
   "id": "aeff3277",
   "metadata": {},
   "outputs": [
    {
     "name": "stdout",
     "output_type": "stream",
     "text": [
      "<class 'pandas.core.frame.DataFrame'>\n",
      "RangeIndex: 186850 entries, 0 to 186849\n",
      "Data columns (total 6 columns):\n",
      " #   Column            Non-Null Count   Dtype  \n",
      "---  ------            --------------   -----  \n",
      " 0   Order ID          185950 non-null  float64\n",
      " 1   Product           185950 non-null  object \n",
      " 2   Quantity Ordered  185950 non-null  float64\n",
      " 3   Price Each        185950 non-null  float64\n",
      " 4   Order Date        185950 non-null  object \n",
      " 5   Purchase Address  185950 non-null  object \n",
      "dtypes: float64(3), object(3)\n",
      "memory usage: 8.6+ MB\n"
     ]
    }
   ],
   "source": [
    "dfa.info() #Get information about the data of dataframe"
   ]
  },
  {
   "cell_type": "code",
   "execution_count": 12,
   "id": "a98144b8",
   "metadata": {},
   "outputs": [],
   "source": [
    "dfa.dropna(inplace=True) # .dropna() deletes all the null values"
   ]
  },
  {
   "cell_type": "code",
   "execution_count": 13,
   "id": "a77c6ecf",
   "metadata": {},
   "outputs": [
    {
     "data": {
      "text/plain": [
       "Order ID            0\n",
       "Product             0\n",
       "Quantity Ordered    0\n",
       "Price Each          0\n",
       "Order Date          0\n",
       "Purchase Address    0\n",
       "dtype: int64"
      ]
     },
     "execution_count": 13,
     "metadata": {},
     "output_type": "execute_result"
    }
   ],
   "source": [
    "dfa.isna().sum() # The .isna() shows all the null or missing values in a dataframe and adding .sum() shows the total number of null values in each column"
   ]
  },
  {
   "cell_type": "code",
   "execution_count": 14,
   "id": "0aa4d111",
   "metadata": {},
   "outputs": [],
   "source": [
    "#Converting the datatypes of Quantity Ordered and Price Each into Integer\n",
    "dfa['Quantity Ordered'] = dfa['Quantity Ordered'].astype(int) \n",
    "dfa['Price Each'] = dfa['Price Each'].astype(int)\n",
    "\n"
   ]
  },
  {
   "cell_type": "code",
   "execution_count": 15,
   "id": "20a0b58f",
   "metadata": {},
   "outputs": [
    {
     "name": "stdout",
     "output_type": "stream",
     "text": [
      "<class 'pandas.core.frame.DataFrame'>\n",
      "Index: 185950 entries, 0 to 186849\n",
      "Data columns (total 6 columns):\n",
      " #   Column            Non-Null Count   Dtype  \n",
      "---  ------            --------------   -----  \n",
      " 0   Order ID          185950 non-null  float64\n",
      " 1   Product           185950 non-null  object \n",
      " 2   Quantity Ordered  185950 non-null  int64  \n",
      " 3   Price Each        185950 non-null  int64  \n",
      " 4   Order Date        185950 non-null  object \n",
      " 5   Purchase Address  185950 non-null  object \n",
      "dtypes: float64(1), int64(2), object(3)\n",
      "memory usage: 9.9+ MB\n"
     ]
    }
   ],
   "source": [
    "dfa.info()"
   ]
  },
  {
   "cell_type": "code",
   "execution_count": 16,
   "id": "c1171371",
   "metadata": {},
   "outputs": [],
   "source": [
    "dfa['Order Date'] = pd.to_datetime(dfa['Order Date']) #Converting the datatype of Order Date into datetime using to_datetime method\n"
   ]
  },
  {
   "cell_type": "code",
   "execution_count": 17,
   "id": "5a953f5f",
   "metadata": {},
   "outputs": [
    {
     "name": "stdout",
     "output_type": "stream",
     "text": [
      "<class 'pandas.core.frame.DataFrame'>\n",
      "Index: 185950 entries, 0 to 186849\n",
      "Data columns (total 6 columns):\n",
      " #   Column            Non-Null Count   Dtype         \n",
      "---  ------            --------------   -----         \n",
      " 0   Order ID          185950 non-null  float64       \n",
      " 1   Product           185950 non-null  object        \n",
      " 2   Quantity Ordered  185950 non-null  int64         \n",
      " 3   Price Each        185950 non-null  int64         \n",
      " 4   Order Date        185950 non-null  datetime64[ns]\n",
      " 5   Purchase Address  185950 non-null  object        \n",
      "dtypes: datetime64[ns](1), float64(1), int64(2), object(2)\n",
      "memory usage: 9.9+ MB\n"
     ]
    }
   ],
   "source": [
    "dfa.info()"
   ]
  },
  {
   "cell_type": "code",
   "execution_count": 18,
   "id": "b1f02a2c",
   "metadata": {},
   "outputs": [],
   "source": [
    "dfa['Month'] = dfa['Order Date'].dt.month #Extracting month from the Order Date using dt.month attribute and keeping it in a seperate column names 'Month'\n",
    "dfa['Month'] = dfa['Month'].astype(int) #Setting the datatype for Month column\n",
    "\n"
   ]
  },
  {
   "cell_type": "code",
   "execution_count": 19,
   "id": "b87cd2e9",
   "metadata": {
    "scrolled": true
   },
   "outputs": [
    {
     "data": {
      "text/html": [
       "<div>\n",
       "<style scoped>\n",
       "    .dataframe tbody tr th:only-of-type {\n",
       "        vertical-align: middle;\n",
       "    }\n",
       "\n",
       "    .dataframe tbody tr th {\n",
       "        vertical-align: top;\n",
       "    }\n",
       "\n",
       "    .dataframe thead th {\n",
       "        text-align: right;\n",
       "    }\n",
       "</style>\n",
       "<table border=\"1\" class=\"dataframe\">\n",
       "  <thead>\n",
       "    <tr style=\"text-align: right;\">\n",
       "      <th></th>\n",
       "      <th>Order ID</th>\n",
       "      <th>Product</th>\n",
       "      <th>Quantity Ordered</th>\n",
       "      <th>Price Each</th>\n",
       "      <th>Order Date</th>\n",
       "      <th>Purchase Address</th>\n",
       "      <th>Month</th>\n",
       "    </tr>\n",
       "  </thead>\n",
       "  <tbody>\n",
       "    <tr>\n",
       "      <th>0</th>\n",
       "      <td>295665.0</td>\n",
       "      <td>Macbook Pro Laptop</td>\n",
       "      <td>1</td>\n",
       "      <td>1700</td>\n",
       "      <td>2019-12-30 00:01:00</td>\n",
       "      <td>136 Church St, New York City, NY 10001</td>\n",
       "      <td>12</td>\n",
       "    </tr>\n",
       "    <tr>\n",
       "      <th>1</th>\n",
       "      <td>295666.0</td>\n",
       "      <td>LG Washing Machine</td>\n",
       "      <td>1</td>\n",
       "      <td>600</td>\n",
       "      <td>2019-12-29 07:03:00</td>\n",
       "      <td>562 2nd St, New York City, NY 10001</td>\n",
       "      <td>12</td>\n",
       "    </tr>\n",
       "    <tr>\n",
       "      <th>2</th>\n",
       "      <td>295667.0</td>\n",
       "      <td>USB-C Charging Cable</td>\n",
       "      <td>1</td>\n",
       "      <td>11</td>\n",
       "      <td>2019-12-12 18:21:00</td>\n",
       "      <td>277 Main St, New York City, NY 10001</td>\n",
       "      <td>12</td>\n",
       "    </tr>\n",
       "    <tr>\n",
       "      <th>3</th>\n",
       "      <td>295668.0</td>\n",
       "      <td>27in FHD Monitor</td>\n",
       "      <td>1</td>\n",
       "      <td>149</td>\n",
       "      <td>2019-12-22 15:13:00</td>\n",
       "      <td>410 6th St, San Francisco, CA 94016</td>\n",
       "      <td>12</td>\n",
       "    </tr>\n",
       "    <tr>\n",
       "      <th>4</th>\n",
       "      <td>295669.0</td>\n",
       "      <td>USB-C Charging Cable</td>\n",
       "      <td>1</td>\n",
       "      <td>11</td>\n",
       "      <td>2019-12-18 12:38:00</td>\n",
       "      <td>43 Hill St, Atlanta, GA 30301</td>\n",
       "      <td>12</td>\n",
       "    </tr>\n",
       "    <tr>\n",
       "      <th>...</th>\n",
       "      <td>...</td>\n",
       "      <td>...</td>\n",
       "      <td>...</td>\n",
       "      <td>...</td>\n",
       "      <td>...</td>\n",
       "      <td>...</td>\n",
       "      <td>...</td>\n",
       "    </tr>\n",
       "    <tr>\n",
       "      <th>186845</th>\n",
       "      <td>222905.0</td>\n",
       "      <td>AAA Batteries (4-pack)</td>\n",
       "      <td>1</td>\n",
       "      <td>2</td>\n",
       "      <td>2019-06-07 19:02:00</td>\n",
       "      <td>795 Pine St, Boston, MA 02215</td>\n",
       "      <td>6</td>\n",
       "    </tr>\n",
       "    <tr>\n",
       "      <th>186846</th>\n",
       "      <td>222906.0</td>\n",
       "      <td>27in FHD Monitor</td>\n",
       "      <td>1</td>\n",
       "      <td>149</td>\n",
       "      <td>2019-06-01 19:29:00</td>\n",
       "      <td>495 North St, New York City, NY 10001</td>\n",
       "      <td>6</td>\n",
       "    </tr>\n",
       "    <tr>\n",
       "      <th>186847</th>\n",
       "      <td>222907.0</td>\n",
       "      <td>USB-C Charging Cable</td>\n",
       "      <td>1</td>\n",
       "      <td>11</td>\n",
       "      <td>2019-06-22 18:57:00</td>\n",
       "      <td>319 Ridge St, San Francisco, CA 94016</td>\n",
       "      <td>6</td>\n",
       "    </tr>\n",
       "    <tr>\n",
       "      <th>186848</th>\n",
       "      <td>222908.0</td>\n",
       "      <td>USB-C Charging Cable</td>\n",
       "      <td>1</td>\n",
       "      <td>11</td>\n",
       "      <td>2019-06-26 18:35:00</td>\n",
       "      <td>916 Main St, San Francisco, CA 94016</td>\n",
       "      <td>6</td>\n",
       "    </tr>\n",
       "    <tr>\n",
       "      <th>186849</th>\n",
       "      <td>222909.0</td>\n",
       "      <td>AAA Batteries (4-pack)</td>\n",
       "      <td>1</td>\n",
       "      <td>2</td>\n",
       "      <td>2019-06-25 14:33:00</td>\n",
       "      <td>209 11th St, Atlanta, GA 30301</td>\n",
       "      <td>6</td>\n",
       "    </tr>\n",
       "  </tbody>\n",
       "</table>\n",
       "<p>185950 rows × 7 columns</p>\n",
       "</div>"
      ],
      "text/plain": [
       "        Order ID                 Product  Quantity Ordered  Price Each  \\\n",
       "0       295665.0      Macbook Pro Laptop                 1        1700   \n",
       "1       295666.0      LG Washing Machine                 1         600   \n",
       "2       295667.0    USB-C Charging Cable                 1          11   \n",
       "3       295668.0        27in FHD Monitor                 1         149   \n",
       "4       295669.0    USB-C Charging Cable                 1          11   \n",
       "...          ...                     ...               ...         ...   \n",
       "186845  222905.0  AAA Batteries (4-pack)                 1           2   \n",
       "186846  222906.0        27in FHD Monitor                 1         149   \n",
       "186847  222907.0    USB-C Charging Cable                 1          11   \n",
       "186848  222908.0    USB-C Charging Cable                 1          11   \n",
       "186849  222909.0  AAA Batteries (4-pack)                 1           2   \n",
       "\n",
       "                Order Date                        Purchase Address  Month  \n",
       "0      2019-12-30 00:01:00  136 Church St, New York City, NY 10001     12  \n",
       "1      2019-12-29 07:03:00     562 2nd St, New York City, NY 10001     12  \n",
       "2      2019-12-12 18:21:00    277 Main St, New York City, NY 10001     12  \n",
       "3      2019-12-22 15:13:00     410 6th St, San Francisco, CA 94016     12  \n",
       "4      2019-12-18 12:38:00           43 Hill St, Atlanta, GA 30301     12  \n",
       "...                    ...                                     ...    ...  \n",
       "186845 2019-06-07 19:02:00           795 Pine St, Boston, MA 02215      6  \n",
       "186846 2019-06-01 19:29:00   495 North St, New York City, NY 10001      6  \n",
       "186847 2019-06-22 18:57:00   319 Ridge St, San Francisco, CA 94016      6  \n",
       "186848 2019-06-26 18:35:00    916 Main St, San Francisco, CA 94016      6  \n",
       "186849 2019-06-25 14:33:00          209 11th St, Atlanta, GA 30301      6  \n",
       "\n",
       "[185950 rows x 7 columns]"
      ]
     },
     "execution_count": 19,
     "metadata": {},
     "output_type": "execute_result"
    }
   ],
   "source": [
    "dfa"
   ]
  },
  {
   "cell_type": "code",
   "execution_count": 20,
   "id": "7163f960",
   "metadata": {},
   "outputs": [],
   "source": [
    "def city(address):\n",
    "    return address.split(',')[1].strip()\n",
    "dfa['City']=dfa['Purchase Address'].apply(city)\n"
   ]
  },
  {
   "cell_type": "code",
   "execution_count": 21,
   "id": "fa399d95",
   "metadata": {},
   "outputs": [
    {
     "data": {
      "text/html": [
       "<div>\n",
       "<style scoped>\n",
       "    .dataframe tbody tr th:only-of-type {\n",
       "        vertical-align: middle;\n",
       "    }\n",
       "\n",
       "    .dataframe tbody tr th {\n",
       "        vertical-align: top;\n",
       "    }\n",
       "\n",
       "    .dataframe thead th {\n",
       "        text-align: right;\n",
       "    }\n",
       "</style>\n",
       "<table border=\"1\" class=\"dataframe\">\n",
       "  <thead>\n",
       "    <tr style=\"text-align: right;\">\n",
       "      <th></th>\n",
       "      <th>Order ID</th>\n",
       "      <th>Product</th>\n",
       "      <th>Quantity Ordered</th>\n",
       "      <th>Price Each</th>\n",
       "      <th>Order Date</th>\n",
       "      <th>Purchase Address</th>\n",
       "      <th>Month</th>\n",
       "      <th>City</th>\n",
       "    </tr>\n",
       "  </thead>\n",
       "  <tbody>\n",
       "    <tr>\n",
       "      <th>0</th>\n",
       "      <td>295665.0</td>\n",
       "      <td>Macbook Pro Laptop</td>\n",
       "      <td>1</td>\n",
       "      <td>1700</td>\n",
       "      <td>2019-12-30 00:01:00</td>\n",
       "      <td>136 Church St, New York City, NY 10001</td>\n",
       "      <td>12</td>\n",
       "      <td>New York City</td>\n",
       "    </tr>\n",
       "    <tr>\n",
       "      <th>1</th>\n",
       "      <td>295666.0</td>\n",
       "      <td>LG Washing Machine</td>\n",
       "      <td>1</td>\n",
       "      <td>600</td>\n",
       "      <td>2019-12-29 07:03:00</td>\n",
       "      <td>562 2nd St, New York City, NY 10001</td>\n",
       "      <td>12</td>\n",
       "      <td>New York City</td>\n",
       "    </tr>\n",
       "    <tr>\n",
       "      <th>2</th>\n",
       "      <td>295667.0</td>\n",
       "      <td>USB-C Charging Cable</td>\n",
       "      <td>1</td>\n",
       "      <td>11</td>\n",
       "      <td>2019-12-12 18:21:00</td>\n",
       "      <td>277 Main St, New York City, NY 10001</td>\n",
       "      <td>12</td>\n",
       "      <td>New York City</td>\n",
       "    </tr>\n",
       "    <tr>\n",
       "      <th>3</th>\n",
       "      <td>295668.0</td>\n",
       "      <td>27in FHD Monitor</td>\n",
       "      <td>1</td>\n",
       "      <td>149</td>\n",
       "      <td>2019-12-22 15:13:00</td>\n",
       "      <td>410 6th St, San Francisco, CA 94016</td>\n",
       "      <td>12</td>\n",
       "      <td>San Francisco</td>\n",
       "    </tr>\n",
       "    <tr>\n",
       "      <th>4</th>\n",
       "      <td>295669.0</td>\n",
       "      <td>USB-C Charging Cable</td>\n",
       "      <td>1</td>\n",
       "      <td>11</td>\n",
       "      <td>2019-12-18 12:38:00</td>\n",
       "      <td>43 Hill St, Atlanta, GA 30301</td>\n",
       "      <td>12</td>\n",
       "      <td>Atlanta</td>\n",
       "    </tr>\n",
       "    <tr>\n",
       "      <th>...</th>\n",
       "      <td>...</td>\n",
       "      <td>...</td>\n",
       "      <td>...</td>\n",
       "      <td>...</td>\n",
       "      <td>...</td>\n",
       "      <td>...</td>\n",
       "      <td>...</td>\n",
       "      <td>...</td>\n",
       "    </tr>\n",
       "    <tr>\n",
       "      <th>186845</th>\n",
       "      <td>222905.0</td>\n",
       "      <td>AAA Batteries (4-pack)</td>\n",
       "      <td>1</td>\n",
       "      <td>2</td>\n",
       "      <td>2019-06-07 19:02:00</td>\n",
       "      <td>795 Pine St, Boston, MA 02215</td>\n",
       "      <td>6</td>\n",
       "      <td>Boston</td>\n",
       "    </tr>\n",
       "    <tr>\n",
       "      <th>186846</th>\n",
       "      <td>222906.0</td>\n",
       "      <td>27in FHD Monitor</td>\n",
       "      <td>1</td>\n",
       "      <td>149</td>\n",
       "      <td>2019-06-01 19:29:00</td>\n",
       "      <td>495 North St, New York City, NY 10001</td>\n",
       "      <td>6</td>\n",
       "      <td>New York City</td>\n",
       "    </tr>\n",
       "    <tr>\n",
       "      <th>186847</th>\n",
       "      <td>222907.0</td>\n",
       "      <td>USB-C Charging Cable</td>\n",
       "      <td>1</td>\n",
       "      <td>11</td>\n",
       "      <td>2019-06-22 18:57:00</td>\n",
       "      <td>319 Ridge St, San Francisco, CA 94016</td>\n",
       "      <td>6</td>\n",
       "      <td>San Francisco</td>\n",
       "    </tr>\n",
       "    <tr>\n",
       "      <th>186848</th>\n",
       "      <td>222908.0</td>\n",
       "      <td>USB-C Charging Cable</td>\n",
       "      <td>1</td>\n",
       "      <td>11</td>\n",
       "      <td>2019-06-26 18:35:00</td>\n",
       "      <td>916 Main St, San Francisco, CA 94016</td>\n",
       "      <td>6</td>\n",
       "      <td>San Francisco</td>\n",
       "    </tr>\n",
       "    <tr>\n",
       "      <th>186849</th>\n",
       "      <td>222909.0</td>\n",
       "      <td>AAA Batteries (4-pack)</td>\n",
       "      <td>1</td>\n",
       "      <td>2</td>\n",
       "      <td>2019-06-25 14:33:00</td>\n",
       "      <td>209 11th St, Atlanta, GA 30301</td>\n",
       "      <td>6</td>\n",
       "      <td>Atlanta</td>\n",
       "    </tr>\n",
       "  </tbody>\n",
       "</table>\n",
       "<p>185950 rows × 8 columns</p>\n",
       "</div>"
      ],
      "text/plain": [
       "        Order ID                 Product  Quantity Ordered  Price Each  \\\n",
       "0       295665.0      Macbook Pro Laptop                 1        1700   \n",
       "1       295666.0      LG Washing Machine                 1         600   \n",
       "2       295667.0    USB-C Charging Cable                 1          11   \n",
       "3       295668.0        27in FHD Monitor                 1         149   \n",
       "4       295669.0    USB-C Charging Cable                 1          11   \n",
       "...          ...                     ...               ...         ...   \n",
       "186845  222905.0  AAA Batteries (4-pack)                 1           2   \n",
       "186846  222906.0        27in FHD Monitor                 1         149   \n",
       "186847  222907.0    USB-C Charging Cable                 1          11   \n",
       "186848  222908.0    USB-C Charging Cable                 1          11   \n",
       "186849  222909.0  AAA Batteries (4-pack)                 1           2   \n",
       "\n",
       "                Order Date                        Purchase Address  Month  \\\n",
       "0      2019-12-30 00:01:00  136 Church St, New York City, NY 10001     12   \n",
       "1      2019-12-29 07:03:00     562 2nd St, New York City, NY 10001     12   \n",
       "2      2019-12-12 18:21:00    277 Main St, New York City, NY 10001     12   \n",
       "3      2019-12-22 15:13:00     410 6th St, San Francisco, CA 94016     12   \n",
       "4      2019-12-18 12:38:00           43 Hill St, Atlanta, GA 30301     12   \n",
       "...                    ...                                     ...    ...   \n",
       "186845 2019-06-07 19:02:00           795 Pine St, Boston, MA 02215      6   \n",
       "186846 2019-06-01 19:29:00   495 North St, New York City, NY 10001      6   \n",
       "186847 2019-06-22 18:57:00   319 Ridge St, San Francisco, CA 94016      6   \n",
       "186848 2019-06-26 18:35:00    916 Main St, San Francisco, CA 94016      6   \n",
       "186849 2019-06-25 14:33:00          209 11th St, Atlanta, GA 30301      6   \n",
       "\n",
       "                 City  \n",
       "0       New York City  \n",
       "1       New York City  \n",
       "2       New York City  \n",
       "3       San Francisco  \n",
       "4             Atlanta  \n",
       "...               ...  \n",
       "186845         Boston  \n",
       "186846  New York City  \n",
       "186847  San Francisco  \n",
       "186848  San Francisco  \n",
       "186849        Atlanta  \n",
       "\n",
       "[185950 rows x 8 columns]"
      ]
     },
     "execution_count": 21,
     "metadata": {},
     "output_type": "execute_result"
    }
   ],
   "source": [
    "dfa"
   ]
  },
  {
   "cell_type": "code",
   "execution_count": 22,
   "id": "dc242f3f",
   "metadata": {},
   "outputs": [
    {
     "data": {
      "text/plain": [
       "Text(0, 0.5, 'Number of saleas')"
      ]
     },
     "execution_count": 22,
     "metadata": {},
     "output_type": "execute_result"
    },
    {
     "data": {
      "image/png": "[encoded data removed]",
      "text/plain": [
       "<Figure size 640x480 with 1 Axes>"
      ]
     },
     "metadata": {},
     "output_type": "display_data"
    }
   ],
   "source": [
    "bar=dfa['Month'].value_counts().plot(kind='bar',color='brown') #Plots a bar graph based on the count of Months\n",
    "plt.xlabel(\"Months\") # Labels the horizontal plane as \"Months\"\n",
    "plt.ylabel(\"Number of saleas\") # Labels the vertical line as \"Number of sales\"\n"
   ]
  },
  {
   "cell_type": "code",
   "execution_count": 23,
   "id": "5a6afd30",
   "metadata": {},
   "outputs": [
    {
     "name": "stdout",
     "output_type": "stream",
     "text": [
      "Month with best sales: 12\n",
      "Earning of the best sale: 4591824\n"
     ]
    },
    {
     "data": {
      "text/plain": [
       "Text(0, 0.5, 'Sales Amount')"
      ]
     },
     "execution_count": 23,
     "metadata": {},
     "output_type": "execute_result"
    },
    {
     "data": {
      "image/png": "[encoded data removed]",
      "text/plain": [
       "<Figure size 640x480 with 1 Axes>"
      ]
     },
     "metadata": {},
     "output_type": "display_data"
    }
   ],
   "source": [
    "\n",
    "dfa['sales']=dfa['Quantity Ordered']*dfa['Price Each'] #Creating a new variable sales for sales report\n",
    "sales=dfa.groupby('Month')['sales'].sum() # Groups the sales in terms of months\n",
    "month=sales.idxmax() #Picks out the month with maximum sales\n",
    "highsales= sales.loc[month]# Accessing the value of sales variable for month\n",
    "print(\"Month with best sales:\",month) #Printing the month with highest sale\n",
    "print(\"Earning of the best sale:\",highsales) # Printing the highest sales of the month\n",
    "months=range(1,13)\n",
    "plt.bar(months,sales,color='brown')\n",
    "plt.xlabel(\"Months\")\n",
    "plt.ylabel(\"Sales Amount\")"
   ]
  },
  {
   "cell_type": "code",
   "execution_count": 24,
   "id": "30325065",
   "metadata": {},
   "outputs": [
    {
     "data": {
      "text/plain": [
       "Text(0, 0.5, 'Products sold')"
      ]
     },
     "execution_count": 24,
     "metadata": {},
     "output_type": "execute_result"
    },
    {
     "data": {
      "image/png": "[encoded data removed]",
      "text/plain": [
       "<Figure size 640x480 with 1 Axes>"
      ]
     },
     "metadata": {},
     "output_type": "display_data"
    }
   ],
   "source": [
    "\n",
    "bar=dfa['City'].value_counts().plot(kind='bar',color='purple') \n",
    "plt.xlabel(\"Cities\")\n",
    "plt.ylabel(\"Products sold\")"
   ]
  },
  {
   "cell_type": "code",
   "execution_count": 25,
   "id": "703e95dc",
   "metadata": {
    "scrolled": true
   },
   "outputs": [
    {
     "data": {
      "text/plain": [
       "Text(0, 0.5, 'Quantity sold')"
      ]
     },
     "execution_count": 25,
     "metadata": {},
     "output_type": "execute_result"
    },
    {
     "data": {
      "image/png": "[encoded data removed]",
      "text/plain": [
       "<Figure size 640x480 with 1 Axes>"
      ]
     },
     "metadata": {},
     "output_type": "display_data"
    }
   ],
   "source": [
    "\n",
    "bar=dfa['Product'].value_counts().plot(kind='bar',color='y') \n",
    "plt.xlabel(\"Products\")\n",
    "plt.ylabel(\"Quantity sold\")"
   ]
  },
  {
   "cell_type": "code",
   "execution_count": 26,
   "id": "7c9a34a4",
   "metadata": {},
   "outputs": [
    {
     "data": {
      "image/png": "[encoded data removed]",
      "text/plain": [
       "<Figure size 640x480 with 1 Axes>"
      ]
     },
     "metadata": {},
     "output_type": "display_data"
    }
   ],
   "source": [
    "plt.hist(dfa['Price Each'], edgecolor='lavender',color='navy')\n",
    "plt.xlabel(\"Range of Price\")\n",
    "plt.ylabel(\"Frequency\")\n",
    "plt.show()"
   ]
  },
  {
   "cell_type": "code",
   "execution_count": null,
   "id": "af82bdea",
   "metadata": {
    "scrolled": true
   },
   "outputs": [],
   "source": []
  },
  {
   "cell_type": "code",
   "execution_count": 27,
   "id": "e898dea6",
   "metadata": {},
   "outputs": [],
   "source": [
    "# Finding the sum, mean, standard deviation, skewness, and kurtosis of Price Each column.\n",
    "from scipy.stats import skew, kurtosis\n",
    "\n",
    "Price_sum = np.sum(dfa['Price Each']) \n",
    "Price_mean = np.mean(dfa['Price Each']) \n",
    "Price_std = np.std(dfa['Price Each']) \n",
    "Price_skewness = skew(dfa['Price Each']) \n",
    "Price_kurt = kurtosis(dfa['Price Each']) \n"
   ]
  },
  {
   "cell_type": "code",
   "execution_count": 28,
   "id": "baf4b1a2",
   "metadata": {},
   "outputs": [
    {
     "name": "stdout",
     "output_type": "stream",
     "text": [
      "The total sum of prices is: 34150278\n",
      "The mean of all prices is: 183.6530142511428\n",
      "The standard deviation of prices is: 332.940704668076\n",
      "The skewness of the prices is: 2.8706390346313775\n",
      "The kurtosis of the prices is: 9.086390289521129\n"
     ]
    }
   ],
   "source": [
    "print(\"The total sum of prices is:\",Price_sum)\n",
    "print(\"The mean of all prices is:\",Price_mean)\n",
    "print(\"The standard deviation of prices is:\",Price_std)\n",
    "print(\"The skewness of the prices is:\",Price_skewness)\n",
    "print(\"The kurtosis of the prices is:\",Price_kurt)\n"
   ]
  },
  {
   "cell_type": "code",
   "execution_count": 30,
   "id": "4c57164f",
   "metadata": {},
   "outputs": [
    {
     "data": {
      "text/html": [
       "<div>\n",
       "<style scoped>\n",
       "    .dataframe tbody tr th:only-of-type {\n",
       "        vertical-align: middle;\n",
       "    }\n",
       "\n",
       "    .dataframe tbody tr th {\n",
       "        vertical-align: top;\n",
       "    }\n",
       "\n",
       "    .dataframe thead th {\n",
       "        text-align: right;\n",
       "    }\n",
       "</style>\n",
       "<table border=\"1\" class=\"dataframe\">\n",
       "  <thead>\n",
       "    <tr style=\"text-align: right;\">\n",
       "      <th></th>\n",
       "      <th>Order ID</th>\n",
       "      <th>Quantity Ordered</th>\n",
       "      <th>Price Each</th>\n",
       "      <th>Month</th>\n",
       "    </tr>\n",
       "  </thead>\n",
       "  <tbody>\n",
       "    <tr>\n",
       "      <th>Order ID</th>\n",
       "      <td>1.000000</td>\n",
       "      <td>0.000702</td>\n",
       "      <td>-0.002861</td>\n",
       "      <td>0.993063</td>\n",
       "    </tr>\n",
       "    <tr>\n",
       "      <th>Quantity Ordered</th>\n",
       "      <td>0.000702</td>\n",
       "      <td>1.000000</td>\n",
       "      <td>-0.148335</td>\n",
       "      <td>0.000791</td>\n",
       "    </tr>\n",
       "    <tr>\n",
       "      <th>Price Each</th>\n",
       "      <td>-0.002861</td>\n",
       "      <td>-0.148335</td>\n",
       "      <td>1.000000</td>\n",
       "      <td>-0.003379</td>\n",
       "    </tr>\n",
       "    <tr>\n",
       "      <th>Month</th>\n",
       "      <td>0.993063</td>\n",
       "      <td>0.000791</td>\n",
       "      <td>-0.003379</td>\n",
       "      <td>1.000000</td>\n",
       "    </tr>\n",
       "  </tbody>\n",
       "</table>\n",
       "</div>"
      ],
      "text/plain": [
       "                  Order ID  Quantity Ordered  Price Each     Month\n",
       "Order ID          1.000000          0.000702   -0.002861  0.993063\n",
       "Quantity Ordered  0.000702          1.000000   -0.148335  0.000791\n",
       "Price Each       -0.002861         -0.148335    1.000000 -0.003379\n",
       "Month             0.993063          0.000791   -0.003379  1.000000"
      ]
     },
     "execution_count": 30,
     "metadata": {},
     "output_type": "execute_result"
    }
   ],
   "source": [
    " #Displaying the correlations of the variables\n",
    "dfa=dfa[['Order ID','Quantity Ordered','Price Each','Month']]\n",
    "dfa.corr()"
   ]
  },
  {
   "cell_type": "code",
   "execution_count": null,
   "id": "42e1fd14-18b2-47cd-9d2d-78742bee2252",
   "metadata": {},
   "outputs": [],
   "source": []
  },
  {
   "cell_type": "code",
   "execution_count": 35,
   "id": "1cf03680",
   "metadata": {},
   "outputs": [
    {
     "data": {
      "text/plain": [
       "<Axes: >"
      ]
     },
     "execution_count": 35,
     "metadata": {},
     "output_type": "execute_result"
    },
    {
     "data": {
      "image/png": "[encoded data removed]",
      "text/plain": [
       "<Figure size 640x480 with 2 Axes>"
      ]
     },
     "metadata": {},
     "output_type": "display_data"
    }
   ],
   "source": [
    "sns.heatmap(dfa.corr(), annot=True) #Plotting heatmap\n"
   ]
  },
  {
   "cell_type": "code",
   "execution_count": null,
   "id": "9230ef8b",
   "metadata": {},
   "outputs": [],
   "source": []
  }
 ],
 "metadata": {
  "kernelspec": {
   "display_name": "Python 3 (ipykernel)",
   "language": "python",
   "name": "python3"
  },
  "language_info": {
   "codemirror_mode": {
    "name": "ipython",
    "version": 3
   },
   "file_extension": ".py",
   "mimetype": "text/x-python",
   "name": "python",
   "nbconvert_exporter": "python",
   "pygments_lexer": "ipython3",
   "version": "3.12.2"
  }
 },
 "nbformat": 4,
 "nbformat_minor": 5
}
